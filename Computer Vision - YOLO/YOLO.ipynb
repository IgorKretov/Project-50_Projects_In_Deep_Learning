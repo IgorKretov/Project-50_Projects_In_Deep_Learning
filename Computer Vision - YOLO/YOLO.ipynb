{
  "nbformat": 4,
  "nbformat_minor": 0,
  "metadata": {
    "kernelspec": {
      "display_name": "Python 3",
      "language": "python",
      "name": "python3"
    },
    "language_info": {
      "codemirror_mode": {
        "name": "ipython",
        "version": 3
      },
      "file_extension": ".py",
      "mimetype": "text/x-python",
      "name": "python",
      "nbconvert_exporter": "python",
      "pygments_lexer": "ipython3",
      "version": "3.6.3"
    },
    "colab": {
      "name": "YOLO.ipynb",
      "version": "0.3.2",
      "provenance": [],
      "include_colab_link": true
    }
  },
  "cells": [
    {
      "cell_type": "markdown",
      "metadata": {
        "id": "view-in-github",
        "colab_type": "text"
      },
      "source": [
        "<a href=\"https://colab.research.google.com/github/ivyclare/Project-50_Projects_In_Deep_Learning/blob/master/YOLO.ipynb\" target=\"_parent\"><img src=\"https://colab.research.google.com/assets/colab-badge.svg\" alt=\"Open In Colab\"/></a>"
      ]
    },
    {
      "cell_type": "markdown",
      "metadata": {
        "id": "PExxqhia8RIs",
        "colab_type": "text"
      },
      "source": [
        "<div style = \"font-family:Georgia;\n",
        "              font-size:2.5vw;\n",
        "              color:lightblue;\n",
        "              font-style:bold;\n",
        "              text-align:center;\n",
        "              background:url('./iti/Title Background.gif') no-repeat center;\n",
        "              background-size:cover)\">\n",
        "              \n",
        "     <br></br><br></br><br></br>\n",
        "     You Only Look Once (YOLO)\n",
        "     <br></br><br></br>\n",
        "     \n",
        "</div>\n",
        "\n",
        "<h1 style = \"text-align:left\">Introduction</h1>\n",
        "\n",
        "As you learned in the previous lessons, YOLO is a state-of-the-art, real-time object detection algorithm. In this notebook, we will apply the YOLO algorithm to detect objects in images. We have provided a series of images that you can test the YOLO algorithm on. Below is a list of the available images that you can load:\n",
        "\n",
        "* cat.jpg\n",
        "* city_scene.jpg\n",
        "* dog.jpg\n",
        "* dog2.jpg\n",
        "* eagle.jpg\n",
        "* food.jpg\n",
        "* giraffe.jpg\n",
        "* horses.jpg\n",
        "* motorbike.jpg\n",
        "* person.jpg\n",
        "* surf.jpg\n",
        "* wine.jpg\n",
        "\n",
        "These images are located in the`./images/`folder. We encourage you to test the YOLO algorithm on your own images as well. Have fun!"
      ]
    },
    {
      "cell_type": "code",
      "metadata": {
        "id": "t85hDxlFEXmo",
        "colab_type": "code",
        "outputId": "c497d84d-19d3-4f62-f9f0-c64c33341a05",
        "colab": {
          "base_uri": "https://localhost:8080/",
          "height": 154
        }
      },
      "source": [
        "from google.colab import drive\n",
        "drive.mount('/content/drive')\n",
        "# Change To The WORKING DIRECTORY\n",
        "%cd /content/drive/My Drive/Colab Notebooks/Computer Vision/CVND_Exercises/2_2_YOLO\n",
        "!pwd"
      ],
      "execution_count": 1,
      "outputs": [
        {
          "output_type": "stream",
          "text": [
            "Go to this URL in a browser: https://accounts.google.com/o/oauth2/auth?client_id=947318989803-6bn6qk8qdgf4n4g3pfee6491hc0brc4i.apps.googleusercontent.com&redirect_uri=urn%3Aietf%3Awg%3Aoauth%3A2.0%3Aoob&scope=email%20https%3A%2F%2Fwww.googleapis.com%2Fauth%2Fdocs.test%20https%3A%2F%2Fwww.googleapis.com%2Fauth%2Fdrive%20https%3A%2F%2Fwww.googleapis.com%2Fauth%2Fdrive.photos.readonly%20https%3A%2F%2Fwww.googleapis.com%2Fauth%2Fpeopleapi.readonly&response_type=code\n",
            "\n",
            "Enter your authorization code:\n",
            "··········\n",
            "Mounted at /content/drive\n",
            "/content/drive/My Drive/Colab Notebooks/Computer Vision/CVND_Exercises/2_2_YOLO\n",
            "/content/drive/My Drive/Colab Notebooks/Computer Vision/CVND_Exercises/2_2_YOLO\n"
          ],
          "name": "stdout"
        }
      ]
    },
    {
      "cell_type": "code",
      "metadata": {
        "id": "KPBgy3ctHxx9",
        "colab_type": "code",
        "colab": {}
      },
      "source": [
        "# https://drive.google.com/open?id=1YeWzcwYfUjim0e7Tfz6mCNjyevh4KYMu\n",
        "  \n",
        "# https://drive.google.com/open?id=1YmVULWr6yAWc4rPOQ4iWXX4bDxshAGqy"
      ],
      "execution_count": 0,
      "outputs": []
    },
    {
      "cell_type": "markdown",
      "metadata": {
        "id": "Fs0a4zbA8RIx",
        "colab_type": "text"
      },
      "source": [
        "# Importing Resources\n",
        "\n",
        "We will start by loading the required packages into Python. We will be using *OpenCV* to load our images, *matplotlib* to plot them, a`utils` module that contains some helper functions, and a modified version of *Darknet*. YOLO uses *Darknet*, an open source, deep neural network framework written by the creators of YOLO. The version of *Darknet* used in this notebook has been modified to work in PyTorch 0.4 and has been simplified because we won't be doing any training. Instead, we will be using a set of pre-trained weights that were trained on the Common Objects in Context (COCO) database. For more information on *Darknet*, please visit <a href=\"https://pjreddie.com/darknet/\">Darknet</a>."
      ]
    },
    {
      "cell_type": "code",
      "metadata": {
        "id": "wx0qcyji8RI0",
        "colab_type": "code",
        "colab": {}
      },
      "source": [
        "import cv2\n",
        "import matplotlib.pyplot as plt\n",
        "\n",
        "from utils import *\n",
        "from darknet import Darknet"
      ],
      "execution_count": 0,
      "outputs": []
    },
    {
      "cell_type": "markdown",
      "metadata": {
        "id": "xcB_cGVk8RI9",
        "colab_type": "text"
      },
      "source": [
        "# Setting Up The Neural Network\n",
        "\n",
        "We will be using the latest version of YOLO, known as YOLOv3. We have already downloaded the `yolov3.cfg` file that contains the network architecture used by YOLOv3 and placed it in the `/cfg/` folder. Similarly, we have placed the `yolov3.weights` file that contains the pre-trained weights in the `/weights/` directory. Finally, the `/data/` directory, contains the `coco.names` file that has the list of the 80 object classes that the weights were trained to detect.\n",
        "\n",
        "In the code below, we start by specifying the location of the files that contain the neural network architecture, the pre-trained weights, and the object classes.  We then use *Darknet* to setup the neural network using the network architecture specified in the `cfg_file`. We then use the`.load_weights()` method to load our set of pre-trained weights into the model. Finally, we use the `load_class_names()` function, from the `utils` module, to load the 80 object classes."
      ]
    },
    {
      "cell_type": "code",
      "metadata": {
        "id": "RF0CpFdy8RJA",
        "colab_type": "code",
        "colab": {
          "base_uri": "https://localhost:8080/",
          "height": 362
        },
        "outputId": "e5cb3a46-1c71-4888-9433-0ef8def66dc0"
      },
      "source": [
        "# Set the location and name of the cfg file\n",
        "cfg_file = './cfg/yolov3.cfg'\n",
        "\n",
        "# Set the location and name of the pre-trained weights file\n",
        "weight_file = './weights/yolov3.weights'\n",
        "\n",
        "# Set the location and name of the COCO object classes file\n",
        "namesfile = 'data/coco.names'\n",
        "\n",
        "# Load the network architecture\n",
        "m = Darknet(cfg_file)\n",
        "\n",
        "# Load the pre-trained weights\n",
        "m.load_weights(weight_file)\n",
        "\n",
        "# Load the COCO object classes\n",
        "class_names = load_class_names(namesfile)"
      ],
      "execution_count": 5,
      "outputs": [
        {
          "output_type": "stream",
          "text": [
            "\n"
          ],
          "name": "stdout"
        },
        {
          "output_type": "error",
          "ename": "FileNotFoundError",
          "evalue": "ignored",
          "traceback": [
            "\u001b[0;31m---------------------------------------------------------------------------\u001b[0m",
            "\u001b[0;31mFileNotFoundError\u001b[0m                         Traceback (most recent call last)",
            "\u001b[0;32m<ipython-input-5-3de61ce55210>\u001b[0m in \u001b[0;36m<module>\u001b[0;34m()\u001b[0m\n\u001b[1;32m     11\u001b[0m \u001b[0;34m\u001b[0m\u001b[0m\n\u001b[1;32m     12\u001b[0m \u001b[0;31m# Load the pre-trained weights\u001b[0m\u001b[0;34m\u001b[0m\u001b[0;34m\u001b[0m\u001b[0;34m\u001b[0m\u001b[0m\n\u001b[0;32m---> 13\u001b[0;31m \u001b[0mm\u001b[0m\u001b[0;34m.\u001b[0m\u001b[0mload_weights\u001b[0m\u001b[0;34m(\u001b[0m\u001b[0mweight_file\u001b[0m\u001b[0;34m)\u001b[0m\u001b[0;34m\u001b[0m\u001b[0;34m\u001b[0m\u001b[0m\n\u001b[0m\u001b[1;32m     14\u001b[0m \u001b[0;34m\u001b[0m\u001b[0m\n\u001b[1;32m     15\u001b[0m \u001b[0;31m# Load the COCO object classes\u001b[0m\u001b[0;34m\u001b[0m\u001b[0;34m\u001b[0m\u001b[0;34m\u001b[0m\u001b[0m\n",
            "\u001b[0;32m/content/drive/My Drive/Colab Notebooks/Computer Vision/CVND_Exercises/2_2_YOLO/darknet.py\u001b[0m in \u001b[0;36mload_weights\u001b[0;34m(self, weightfile)\u001b[0m\n\u001b[1;32m    197\u001b[0m     \u001b[0;32mdef\u001b[0m \u001b[0mload_weights\u001b[0m\u001b[0;34m(\u001b[0m\u001b[0mself\u001b[0m\u001b[0;34m,\u001b[0m \u001b[0mweightfile\u001b[0m\u001b[0;34m)\u001b[0m\u001b[0;34m:\u001b[0m\u001b[0;34m\u001b[0m\u001b[0;34m\u001b[0m\u001b[0m\n\u001b[1;32m    198\u001b[0m         \u001b[0mprint\u001b[0m\u001b[0;34m(\u001b[0m\u001b[0;34m)\u001b[0m\u001b[0;34m\u001b[0m\u001b[0;34m\u001b[0m\u001b[0m\n\u001b[0;32m--> 199\u001b[0;31m         \u001b[0mfp\u001b[0m \u001b[0;34m=\u001b[0m \u001b[0mopen\u001b[0m\u001b[0;34m(\u001b[0m\u001b[0mweightfile\u001b[0m\u001b[0;34m,\u001b[0m \u001b[0;34m'rb'\u001b[0m\u001b[0;34m)\u001b[0m\u001b[0;34m\u001b[0m\u001b[0;34m\u001b[0m\u001b[0m\n\u001b[0m\u001b[1;32m    200\u001b[0m         \u001b[0mheader\u001b[0m \u001b[0;34m=\u001b[0m \u001b[0mnp\u001b[0m\u001b[0;34m.\u001b[0m\u001b[0mfromfile\u001b[0m\u001b[0;34m(\u001b[0m\u001b[0mfp\u001b[0m\u001b[0;34m,\u001b[0m \u001b[0mcount\u001b[0m\u001b[0;34m=\u001b[0m\u001b[0;36m5\u001b[0m\u001b[0;34m,\u001b[0m \u001b[0mdtype\u001b[0m\u001b[0;34m=\u001b[0m\u001b[0mnp\u001b[0m\u001b[0;34m.\u001b[0m\u001b[0mint32\u001b[0m\u001b[0;34m)\u001b[0m\u001b[0;34m\u001b[0m\u001b[0;34m\u001b[0m\u001b[0m\n\u001b[1;32m    201\u001b[0m         \u001b[0mself\u001b[0m\u001b[0;34m.\u001b[0m\u001b[0mheader\u001b[0m \u001b[0;34m=\u001b[0m \u001b[0mtorch\u001b[0m\u001b[0;34m.\u001b[0m\u001b[0mfrom_numpy\u001b[0m\u001b[0;34m(\u001b[0m\u001b[0mheader\u001b[0m\u001b[0;34m)\u001b[0m\u001b[0;34m\u001b[0m\u001b[0;34m\u001b[0m\u001b[0m\n",
            "\u001b[0;31mFileNotFoundError\u001b[0m: [Errno 2] No such file or directory: './weights/yolov3.weights'"
          ]
        }
      ]
    },
    {
      "cell_type": "markdown",
      "metadata": {
        "id": "gcDWq0YK8RJI",
        "colab_type": "text"
      },
      "source": [
        "# Taking a Look at The Neural Network\n",
        "\n",
        "Now that the neural network has been setup, we can see what it looks like. We can print the network using the `.print_network()` function."
      ]
    },
    {
      "cell_type": "code",
      "metadata": {
        "scrolled": false,
        "id": "VPN-2cNK8RJL",
        "colab_type": "code",
        "colab": {}
      },
      "source": [
        "# Print the neural network used in YOLOv3\n",
        "m.print_network()"
      ],
      "execution_count": 0,
      "outputs": []
    },
    {
      "cell_type": "markdown",
      "metadata": {
        "id": "2citNNkn8RJU",
        "colab_type": "text"
      },
      "source": [
        "As we can see, the neural network used by YOLOv3 consists mainly of convolutional layers, with some shortcut connections and upsample layers. For a full description of this network please refer to the <a href=\"https://pjreddie.com/media/files/papers/YOLOv3.pdf\">YOLOv3 Paper</a>.\n",
        "\n",
        "# Loading and Resizing Our Images\n",
        "\n",
        "In the code below, we load our images using OpenCV's `cv2.imread()` function. Since, this function loads images as BGR we will convert our images to RGB so we can display them with the correct colors.\n",
        "\n",
        "As we can see in the previous cell, the input size of the first layer of the network is 416 x 416 x 3. Since images have different sizes, we have to resize our images to be compatible with the input size of the first layer in the network. In the code below, we resize our images using OpenCV's `cv2.resize()` function. We then plot the original and resized images. "
      ]
    },
    {
      "cell_type": "code",
      "metadata": {
        "id": "m_WhMttu8RJX",
        "colab_type": "code",
        "colab": {}
      },
      "source": [
        "# Set the default figure size\n",
        "plt.rcParams['figure.figsize'] = [24.0, 14.0]\n",
        "\n",
        "# Load the image\n",
        "img = cv2.imread('./images/surf.jpg')\n",
        "\n",
        "# Convert the image to RGB\n",
        "original_image = cv2.cvtColor(img, cv2.COLOR_BGR2RGB)\n",
        "\n",
        "# We resize the image to the input width and height of the first layer of the network.    \n",
        "resized_image = cv2.resize(original_image, (m.width, m.height))\n",
        "\n",
        "# Display the images\n",
        "plt.subplot(121)\n",
        "plt.title('Original Image')\n",
        "plt.imshow(original_image)\n",
        "plt.subplot(122)\n",
        "plt.title('Resized Image')\n",
        "plt.imshow(resized_image)\n",
        "plt.show()"
      ],
      "execution_count": 0,
      "outputs": []
    },
    {
      "cell_type": "markdown",
      "metadata": {
        "id": "5uC3DE4L8RJf",
        "colab_type": "text"
      },
      "source": [
        "# Setting the Non-Maximal Suppression Threshold\n",
        "\n",
        "As you learned in the previous lessons, YOLO uses **Non-Maximal Suppression (NMS)** to only keep the best bounding box. The first step in NMS is to remove all the predicted bounding boxes that have a detection probability that is less than a given NMS threshold.  In the code below, we set this NMS threshold to `0.6`. This means that all predicted bounding boxes that have a detection probability less than 0.6 will be removed. "
      ]
    },
    {
      "cell_type": "code",
      "metadata": {
        "id": "DfopZBnx8RJi",
        "colab_type": "code",
        "colab": {}
      },
      "source": [
        "# Set the NMS threshold\n",
        "nms_thresh = 0.6"
      ],
      "execution_count": 0,
      "outputs": []
    },
    {
      "cell_type": "markdown",
      "metadata": {
        "id": "Ws_jqBbi8RJq",
        "colab_type": "text"
      },
      "source": [
        "# Setting the Intersection Over Union Threshold\n",
        "\n",
        "After removing all the predicted bounding boxes that have a low detection probability, the second step in NMS, is to select the bounding boxes with the highest detection probability and eliminate all the bounding boxes whose **Intersection Over Union (IOU)** value is higher than a given IOU threshold. In the code below, we set this IOU threshold to `0.4`. This means that all predicted bounding boxes that have an IOU value greater than 0.4 with respect to the best bounding boxes will be removed.\n",
        "\n",
        "In the `utils` module you will find the `nms` function, that performs the second step of Non-Maximal Suppression, and the `boxes_iou` function that calculates the Intersection over Union of two given bounding boxes. You are encouraged to look at these functions to see how they work. "
      ]
    },
    {
      "cell_type": "code",
      "metadata": {
        "id": "ZeAcvlxh8RJs",
        "colab_type": "code",
        "colab": {}
      },
      "source": [
        "# Set the IOU threshold\n",
        "iou_thresh = 0.4"
      ],
      "execution_count": 0,
      "outputs": []
    },
    {
      "cell_type": "markdown",
      "metadata": {
        "id": "AVkHpDzg8RJ0",
        "colab_type": "text"
      },
      "source": [
        "# Object Detection\n",
        "\n",
        "Once the image has been loaded and resized, and you have chosen your parameters for `nms_thresh` and `iou_thresh`, we can use the YOLO algorithm to detect objects in the image. We detect the objects using the `detect_objects(m, resized_image, iou_thresh, nms_thresh)`function from the `utils` module. This function takes in the model `m` returned by *Darknet*, the resized image, and the NMS and IOU thresholds, and returns the bounding boxes of the objects found.\n",
        "\n",
        "Each bounding box contains 7 parameters: the coordinates *(x, y)* of the center of the bounding box, the width *w* and height *h* of the bounding box, the confidence detection level, the object class probability, and the object class id. The `detect_objects()` function also prints out the time it took for the YOLO algorithm to detect the objects in the image and the number of objects detected. Since we are running the algorithm on a CPU it takes about 2 seconds to detect the objects in an image, however, if we were to use a GPU it would run much faster.\n",
        "\n",
        "Once we have the bounding boxes of the objects found by YOLO, we can print the class of the objects found and their corresponding object class probability. To do this we use the `print_objects()` function in the `utils` module.\n",
        "\n",
        "Finally, we use the `plot_boxes()` function to plot the bounding boxes and corresponding object class labels found by YOLO in our image. If you set the `plot_labels` flag to `False` you will display the bounding boxes with no labels. This makes it easier to view the bounding boxes if your `nms_thresh` is too low. The `plot_boxes()`function uses the same color to plot the bounding boxes of the same object class. However, if you want all bounding boxes to be the same color, you can use the `color` keyword to set the desired color. For example, if you want all the bounding boxes to be red you can use:\n",
        "\n",
        "`plot_boxes(original_image, boxes, class_names, plot_labels = True, color = (1,0,0))`\n",
        "\n",
        "You are encouraged to change the `iou_thresh` and `nms_thresh` parameters to see how they affect the YOLO detection algorithm. The default values of `iou_thresh = 0.4` and `nms_thresh = 0.6` work well to detect objects in different kinds of images. In the cell below, we have repeated some of the code used before in order to prevent you from scrolling up down when you want to change the `iou_thresh` and `nms_thresh`parameters or the image. Have Fun!"
      ]
    },
    {
      "cell_type": "code",
      "metadata": {
        "id": "WeTT5gZm8RJ3",
        "colab_type": "code",
        "colab": {}
      },
      "source": [
        "# Set the default figure size\n",
        "plt.rcParams['figure.figsize'] = [24.0, 14.0]\n",
        "\n",
        "# Load the image\n",
        "img = cv2.imread('./images/city.jpg')\n",
        "\n",
        "# Convert the image to RGB\n",
        "original_image = cv2.cvtColor(img, cv2.COLOR_BGR2RGB)\n",
        "\n",
        "# We resize the image to the input width and height of the first layer of the network.    \n",
        "resized_image = cv2.resize(original_image, (m.width, m.height))\n",
        "\n",
        "# Set the IOU threshold. Default value is 0.4\n",
        "iou_thresh = 0.4\n",
        "\n",
        "# Set the NMS threshold. Default value is 0.6\n",
        "nms_thresh = 0.6\n",
        "\n",
        "# Detect objects in the image\n",
        "boxes = detect_objects(m, resized_image, iou_thresh, nms_thresh)\n",
        "\n",
        "# Print the objects found and the confidence level\n",
        "print_objects(boxes, class_names)\n",
        "\n",
        "#Plot the image with bounding boxes and corresponding object class labels\n",
        "plot_boxes(original_image, boxes, class_names, plot_labels = True)"
      ],
      "execution_count": 0,
      "outputs": []
    },
    {
      "cell_type": "code",
      "metadata": {
        "id": "AqnOC5_Tj4WN",
        "colab_type": "code",
        "colab": {}
      },
      "source": [
        ""
      ],
      "execution_count": 0,
      "outputs": []
    }
  ]
}